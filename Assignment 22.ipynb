{
 "cells": [
  {
   "cell_type": "code",
   "execution_count": null,
   "id": "d51803f0-e054-4daf-b8ab-4f4c14686525",
   "metadata": {},
   "outputs": [],
   "source": [
    "1. List any five functions of the pandas library with execution."
   ]
  },
  {
   "cell_type": "code",
   "execution_count": null,
   "id": "520955b5-4470-4ae0-9c1c-35dec1919f5b",
   "metadata": {},
   "outputs": [],
   "source": [
    "ANS- 1.read_csv() - This function is used to read a CSV (comma-separated values) file and convert it into a pandas DataFrame. \n",
    "     Here is an example:"
   ]
  },
  {
   "cell_type": "code",
   "execution_count": null,
   "id": "6c04e98b-6202-48dc-acd5-c0af4853387a",
   "metadata": {},
   "outputs": [],
   "source": [
    "import pandas as pd\n",
    "\n",
    "# read the CSV file into a DataFrame\n",
    "df = pd.read_csv('data.csv')\n",
    "\n",
    "# print the first 5 rows of the DataFrame\n",
    "print(df.head())\n",
    "\n",
    "\n",
    "This will give all rows and all columns as output\n"
   ]
  },
  {
   "cell_type": "code",
   "execution_count": null,
   "id": "4d2c8169-57ad-44fb-8510-17148a711eb2",
   "metadata": {},
   "outputs": [],
   "source": [
    "     2. info() - This function is used to get a concise summary of a DataFrame, including the column names, data types, and number of non-null values. \n",
    "            Here is an example:"
   ]
  },
  {
   "cell_type": "code",
   "execution_count": 5,
   "id": "3ff1eaa3-9635-4e16-aed2-256c1fd2c4b1",
   "metadata": {},
   "outputs": [
    {
     "name": "stdout",
     "output_type": "stream",
     "text": [
      "<class 'pandas.core.frame.DataFrame'>\n",
      "RangeIndex: 3 entries, 0 to 2\n",
      "Data columns (total 3 columns):\n",
      " #   Column  Non-Null Count  Dtype \n",
      "---  ------  --------------  ----- \n",
      " 0   name    3 non-null      object\n",
      " 1   age     3 non-null      int64 \n",
      " 2   gender  3 non-null      object\n",
      "dtypes: int64(1), object(2)\n",
      "memory usage: 200.0+ bytes\n"
     ]
    }
   ],
   "source": [
    "import pandas as pd\n",
    "\n",
    "# create a DataFrame\n",
    "df = pd.DataFrame({'name': ['Shubham', 'Nishant', 'Bruno'], 'age': [25, 22, 2], 'gender': ['M', 'M', 'M']})\n",
    "\n",
    "# get information about the DataFrame\n",
    "df.info()\n"
   ]
  },
  {
   "cell_type": "code",
   "execution_count": null,
   "id": "728e5a3a-60b4-4893-a143-26747abff9f8",
   "metadata": {},
   "outputs": [],
   "source": [
    "      3. groupby() - This function is used to group a DataFrame by one or more columns and perform an aggregate function on the groups. \n",
    "                     Here is an example:"
   ]
  },
  {
   "cell_type": "code",
   "execution_count": 6,
   "id": "7c93a337-dac0-42c3-a87f-3945cfabda01",
   "metadata": {},
   "outputs": [
    {
     "name": "stdout",
     "output_type": "stream",
     "text": [
      "         score\n",
      "name          \n",
      "Bruno     77.5\n",
      "Nishant   82.5\n",
      "Shubham   87.5\n"
     ]
    }
   ],
   "source": [
    "import pandas as pd\n",
    "\n",
    "# create a DataFrame\n",
    "df = pd.DataFrame({'name': ['Shubham', 'Nishant', 'Bruno', 'Shubham', 'Nishant', 'Bruno'], 'score': [80, 90, 85, 95, 75, 70]})\n",
    "\n",
    "# group the DataFrame by name and get the mean score for each group\n",
    "grouped = df.groupby('name').mean()\n",
    "\n",
    "# print the grouped DataFrame\n",
    "print(grouped)\n"
   ]
  },
  {
   "cell_type": "code",
   "execution_count": null,
   "id": "54b542b6-4c56-4c3a-8794-c3ea14458512",
   "metadata": {},
   "outputs": [],
   "source": [
    "        4. fillna() - This function is used to fill missing values in a DataFrame with a specified value or method. \n",
    "                      Here is an example:"
   ]
  },
  {
   "cell_type": "code",
   "execution_count": 2,
   "id": "799515e3-b26e-4995-8794-472dbca5c301",
   "metadata": {},
   "outputs": [
    {
     "name": "stdout",
     "output_type": "stream",
     "text": [
      "     A    B  C\n",
      "0  1.0  4.0  7\n",
      "1  2.0  4.0  8\n",
      "2  1.5  4.0  9\n"
     ]
    }
   ],
   "source": [
    "import pandas as pd\n",
    "import numpy as np\n",
    "\n",
    "# create a DataFrame with missing values\n",
    "df = pd.DataFrame({'A': [1, 2, np.nan], 'B': [4, np.nan, np.nan], 'C': [7, 8, 9]})\n",
    "\n",
    "# fill the missing values with the mean value of each column\n",
    "df = df.fillna(df.mean())\n",
    "\n",
    "# print the filled DataFrame\n",
    "print(df)\n"
   ]
  },
  {
   "cell_type": "code",
   "execution_count": null,
   "id": "657763ae-c0ea-4790-b56a-3ba308f5d163",
   "metadata": {},
   "outputs": [],
   "source": [
    "       5. to_csv() - This function is used to write a DataFrame to a CSV file. \n",
    "                     Here is an example:"
   ]
  },
  {
   "cell_type": "code",
   "execution_count": 7,
   "id": "df3ee2a0-c941-4703-832e-b21806b601a1",
   "metadata": {},
   "outputs": [
    {
     "name": "stdout",
     "output_type": "stream",
     "text": [
      "name,age,gender\n",
      "Shubham,25,M\n",
      "Nishant,22,M\n",
      "Bruno,2,M\n",
      "\n"
     ]
    }
   ],
   "source": [
    "import pandas as pd\n",
    "\n",
    "# create a DataFrame\n",
    "df = pd.DataFrame({'name': ['Shubham', 'Nishant', 'Bruno'], 'age': [25, 22, 2], 'gender': ['M', 'M', 'M']})\n",
    "\n",
    "# write the DataFrame to a CSV file\n",
    "df.to_csv('output.csv', index=False)\n",
    "\n",
    "# read the CSV file and print the contents\n",
    "with open('output.csv', 'r') as f:\n",
    "    print(f.read())\n"
   ]
  },
  {
   "cell_type": "code",
   "execution_count": null,
   "id": "5620beb8-2b01-4875-91af-c5c1fef0da24",
   "metadata": {},
   "outputs": [],
   "source": [
    "Note that these are just a few examples of the many functions available in the pandas library. The official pandas documentation is a \n",
    "great resource for learning about all the different functions and their parameters."
   ]
  },
  {
   "cell_type": "code",
   "execution_count": null,
   "id": "245dcff3-5b11-44c2-bdd6-99d7fd87bc76",
   "metadata": {},
   "outputs": [],
   "source": [
    "2. Given a Pandas DataFrame df with columns 'A', 'B', and 'C', write a Python function to re-index the DataFrame with a new index \n",
    "   that starts from 1 and increments by 2 for each row."
   ]
  },
  {
   "cell_type": "code",
   "execution_count": null,
   "id": "b03b184a-1a8e-4c18-a08a-9d71f575d900",
   "metadata": {},
   "outputs": [],
   "source": [
    "import pandas as pd\n",
    "\n",
    "def reindex_df(df):\n",
    "    # create a new index starting from 1 and incrementing by 2 for each row\n",
    "    new_index = pd.RangeIndex(start=1, stop=2*len(df)+1, step=2)\n",
    "    \n",
    "    # re-index the DataFrame using the new index\n",
    "    df = df.reindex(new_index)\n",
    "    \n",
    "    # return the re-indexed DataFrame\n",
    "    return df\n",
    "\n",
    "\n",
    "In this example, the function reindex_df() takes a pandas DataFrame df as its input. First, a new index is created using the \n",
    "RangeIndex() function, which starts from 1, stops at 2 times the length of the DataFrame, and increments by 2 for each row. \n",
    "The reindex() function is then used to re-index the DataFrame using the new index. \n",
    "Finally, the re-indexed DataFrame is returned by the function.\n",
    "\n",
    "You can call this function like this:"
   ]
  },
  {
   "cell_type": "code",
   "execution_count": 11,
   "id": "aaaa9377-d1b0-4420-b841-5a6395fd22e3",
   "metadata": {},
   "outputs": [
    {
     "name": "stdout",
     "output_type": "stream",
     "text": [
      "     A    B    C\n",
      "1  2.0  5.0  8.0\n",
      "3  NaN  NaN  NaN\n",
      "5  NaN  NaN  NaN\n"
     ]
    }
   ],
   "source": [
    "# create a DataFrame\n",
    "df = pd.DataFrame({'A': [1, 2, 3], 'B': [4, 5, 6], 'C': [7, 8, 9]})\n",
    "\n",
    "# re-index the DataFrame\n",
    "df = reindex_df(df)\n",
    "\n",
    "# print the re-indexed DataFrame\n",
    "print(df)\n"
   ]
  },
  {
   "cell_type": "code",
   "execution_count": null,
   "id": "03fd9286-a9a0-47c1-848f-9f9226fe4daa",
   "metadata": {},
   "outputs": [],
   "source": [
    "3. You have a Pandas DataFrame df with a column named 'Values'. Write a Python function that iterates over the DataFrame and calculates \n",
    "   the sum of the first three values in the 'Values' column. The function should print the sum to the console.\n",
    "    For example, if the 'Values' column of df contains the values [10, 20, 30, 40, 50], your function should calculate and print the sum \n",
    "    of the first three values, which is 60. "
   ]
  },
  {
   "cell_type": "code",
   "execution_count": 14,
   "id": "684de135-cf98-41a8-9010-378a314d8963",
   "metadata": {},
   "outputs": [],
   "source": [
    "import pandas as pd\n",
    "\n",
    "def sum_first_three_values(df):\n",
    "    # extract the 'Values' column from the DataFrame\n",
    "    values_col = df['Values']\n",
    "    \n",
    "    # calculate the sum of the first three values in the column\n",
    "    total_sum = sum(values_col[:3])\n",
    "    \n",
    "    # print the sum to the console\n",
    "    print('The sum of the first three values in the \"Values\" column is:', total_sum)\n",
    "\n",
    "\n",
    "In this example, the function sum_first_three_values() takes a pandas DataFrame df as its input. First, the 'Values' column is extracted \n",
    "from the DataFrame using the [] operator. Then, the sum() function is used to calculate the sum of the first three values in the column, \n",
    "which is done using list slicing. Finally, the total sum is printed to the console.\n",
    "\n",
    "You can call this function like this:    "
   ]
  },
  {
   "cell_type": "code",
   "execution_count": 15,
   "id": "0c7c946f-265a-4cb8-b859-ad22f0b84b68",
   "metadata": {},
   "outputs": [
    {
     "name": "stdout",
     "output_type": "stream",
     "text": [
      "The sum of the first three values in the \"Values\" column is: 60\n"
     ]
    }
   ],
   "source": [
    "# create a DataFrame with a 'Values' column\n",
    "df = pd.DataFrame({'Values': [10, 20, 30, 40, 50]})\n",
    "\n",
    "# calculate the sum of the first three values in the 'Values' column\n",
    "sum_first_three_values(df)\n"
   ]
  },
  {
   "cell_type": "code",
   "execution_count": null,
   "id": "679a3043-52a3-4f60-b5af-187d0046489c",
   "metadata": {},
   "outputs": [],
   "source": [
    "4. Given a Pandas DataFrame df with a column 'Text', write a Python function to create a new column 'Word_Count' that contains \n",
    "   the number of words in each row of the 'Text' column."
   ]
  },
  {
   "cell_type": "code",
   "execution_count": 16,
   "id": "5b846970-7d25-42c7-be93-f8f7c9d9b1cf",
   "metadata": {},
   "outputs": [],
   "source": [
    "import pandas as pd\n",
    "\n",
    "def add_word_count_column(df):\n",
    "    # extract the 'Text' column from the DataFrame\n",
    "    text_col = df['Text']\n",
    "    \n",
    "    # split each row in the 'Text' column into words\n",
    "    word_lists = [text.split() for text in text_col]\n",
    "    \n",
    "    # count the number of words in each row\n",
    "    word_counts = [len(words) for words in word_lists]\n",
    "    \n",
    "    # add the 'Word_Count' column to the DataFrame\n",
    "    df['Word_Count'] = word_counts\n",
    "    \n",
    "    \n",
    "In this example, the function add_word_count_column() takes a pandas DataFrame df as its input. First, the 'Text' column is extracted \n",
    "from the DataFrame using the [] operator. Then, each row in the 'Text' column is split into words using the split() method, which returns \n",
    "a list of words. The number of words in each row is then calculated using the len() function. \n",
    "Finally, a new column 'Word_Count' is added to the DataFrame using the [] operator.\n",
    "\n",
    "You can call this function like this:    "
   ]
  },
  {
   "cell_type": "code",
   "execution_count": 17,
   "id": "d5cc547e-7517-47ff-841c-af6e9efd6192",
   "metadata": {},
   "outputs": [
    {
     "name": "stdout",
     "output_type": "stream",
     "text": [
      "                      Text  Word_Count\n",
      "0   This is the first row.           5\n",
      "1  This is the second row.           5\n",
      "2   This is the third row.           5\n"
     ]
    }
   ],
   "source": [
    "# create a DataFrame with a 'Text' column\n",
    "df = pd.DataFrame({'Text': ['This is the first row.', 'This is the second row.', 'This is the third row.']})\n",
    "\n",
    "# add the 'Word_Count' column to the DataFrame\n",
    "add_word_count_column(df)\n",
    "\n",
    "# print the DataFrame to verify the new column has been added\n",
    "print(df)\n"
   ]
  },
  {
   "cell_type": "code",
   "execution_count": null,
   "id": "21d860f5-49d6-4a07-9697-c70d562676ce",
   "metadata": {},
   "outputs": [],
   "source": [
    "5. How are DataFrame.size() and DataFrame.shape() different?"
   ]
  },
  {
   "cell_type": "code",
   "execution_count": null,
   "id": "35d52517-da5a-4ba4-b5e1-782450246eda",
   "metadata": {},
   "outputs": [],
   "source": [
    "In Pandas, DataFrame.size and DataFrame.shape are two methods used to get information about the dimensions of a DataFrame, \n",
    "but they are different in what they return.\n",
    "\n",
    "  1. DataFrame.size returns the total number of elements in a DataFrame. It is equivalent to the product of the number of rows and columns \n",
    "     in the DataFrame.  \n",
    "    For example:"
   ]
  },
  {
   "cell_type": "code",
   "execution_count": 18,
   "id": "279468fe-5db2-4612-872a-d2b52b6fcd20",
   "metadata": {},
   "outputs": [
    {
     "name": "stdout",
     "output_type": "stream",
     "text": [
      "6\n"
     ]
    }
   ],
   "source": [
    "import pandas as pd\n",
    "\n",
    "df = pd.DataFrame({'A': [1, 2, 3], 'B': [4, 5, 6]})\n",
    "print(df.size)\n"
   ]
  },
  {
   "cell_type": "code",
   "execution_count": null,
   "id": "03b0cd41-be74-4964-b286-45cfb75f903b",
   "metadata": {},
   "outputs": [],
   "source": [
    "Here, df.size returns 6 because there are 2 columns and 3 rows in the DataFrame, giving a total of 6 elements.\n",
    "\n",
    "On the other hand, \n",
    "  2. DataFrame.shape returns a tuple containing the number of rows and columns in the DataFrame, respectively.\n",
    "     For example:"
   ]
  },
  {
   "cell_type": "code",
   "execution_count": 19,
   "id": "4373de04-7fab-482e-8d5d-0e39fcd7eab4",
   "metadata": {},
   "outputs": [
    {
     "name": "stdout",
     "output_type": "stream",
     "text": [
      "(3, 2)\n"
     ]
    }
   ],
   "source": [
    "import pandas as pd\n",
    "\n",
    "df = pd.DataFrame({'A': [1, 2, 3], 'B': [4, 5, 6]})\n",
    "print(df.shape)\n"
   ]
  },
  {
   "cell_type": "code",
   "execution_count": null,
   "id": "5553e3dc-3f34-4803-ae09-8ffcb844a65c",
   "metadata": {},
   "outputs": [],
   "source": [
    "Here, df.shape returns the tuple (3, 2) because there are 3 rows and 2 columns in the DataFrame.\n",
    "\n",
    "In summary, DataFrame.size returns the total number of elements in the DataFrame, while DataFrame.shape returns a tuple containing \n",
    "the number of rows and columns in the DataFrame."
   ]
  },
  {
   "cell_type": "code",
   "execution_count": null,
   "id": "3221b34c-4265-4249-a46d-165e1ac5e031",
   "metadata": {},
   "outputs": [],
   "source": [
    "6. Which function of pandas do we use to read an excel file?"
   ]
  },
  {
   "cell_type": "code",
   "execution_count": null,
   "id": "91dee5e7-f339-47c1-8503-e058c21f8059",
   "metadata": {},
   "outputs": [],
   "source": [
    "To read an Excel file in pandas, we can use the pandas.read_excel() function.\n",
    "\n",
    "This function reads the contents of an Excel file into a pandas DataFrame. It takes the Excel file path as input and can read \n",
    "different sheet names or specific cells within a sheet.\n",
    "\n",
    "\n",
    "import pandas as pd\n",
    "\n",
    "# Read the Excel file into a DataFrame\n",
    "df = pd.read_excel('example.xlsx')\n",
    "\n",
    "# Print the first 5 rows of the DataFrame\n",
    "print(df.head())\n",
    "\n",
    "\n",
    "This code reads the contents of an Excel file named \"example.xlsx\" and stores it in a pandas DataFrame called df. \n",
    "The head() method is used to print the first 5 rows of the DataFrame."
   ]
  },
  {
   "cell_type": "code",
   "execution_count": null,
   "id": "92738e45-f6eb-4d73-a494-1bb43b2dcdcd",
   "metadata": {},
   "outputs": [],
   "source": [
    "7. You have a Pandas DataFrame df that contains a column named 'Email' that contains email addresses in the format 'username@domain.com'. \n",
    "Write a Python function that creates a new column 'Username' in df that contains only the username part of each email address.\n",
    "\n",
    "The username is the part of the email address that appears before the '@' symbol. For example, if the email address is 'john.doe@example.com', \n",
    "the 'Username' column should contain 'john.doe'. Your function should extract the username from each email address and store it in the new \n",
    "'Username' column."
   ]
  },
  {
   "cell_type": "code",
   "execution_count": 21,
   "id": "393edc86-f4de-4b10-8b3c-ce2880ecabe5",
   "metadata": {},
   "outputs": [],
   "source": [
    "Here is an example Python function that creates a new 'Username' column in a Pandas DataFrame called df by extracting the username \n",
    "from each email address in the 'Email' column:\n",
    "\n",
    "\n",
    "import pandas as pd\n",
    "\n",
    "def extract_username(df):\n",
    "    # Extract the username from each email address and store it in a new column called 'Username'\n",
    "    df['Username'] = df['Email'].str.split('@').str[0]\n",
    "    return df\n",
    "\n",
    "\n",
    "In this function, the str.split() method is used to split each email address in the 'Email' column into two parts: the username \n",
    "and the domain name. The str[0] indexer is then used to select only the username part and store it in a new column called 'Username'.\n",
    "\n",
    "\n",
    "You can call this function on your DataFrame to create the new 'Username' column:"
   ]
  },
  {
   "cell_type": "code",
   "execution_count": 22,
   "id": "832ffddc-6333-4f75-8000-7dec9f039718",
   "metadata": {},
   "outputs": [
    {
     "name": "stdout",
     "output_type": "stream",
     "text": [
      "                  Email  Username\n",
      "0  john.doe@example.com  john.doe\n",
      "1   shubham@example.com   shubham\n",
      "2   nishant@example.com   nishant\n"
     ]
    }
   ],
   "source": [
    "# Create a sample DataFrame with an 'Email' column\n",
    "df = pd.DataFrame({'Email': ['john.doe@example.com', 'shubham@example.com', 'nishant@example.com']})\n",
    "\n",
    "# Call the function to create the new 'Username' column\n",
    "df = extract_username(df)\n",
    "\n",
    "# Print the updated DataFrame\n",
    "print(df)"
   ]
  },
  {
   "cell_type": "code",
   "execution_count": null,
   "id": "952180fa-3a75-441c-84e0-dc1212646abc",
   "metadata": {},
   "outputs": [],
   "source": [
    "8. You have a Pandas DataFrame df with columns 'A', 'B', and 'C'. Write a Python function that selects all rows where the value in \n",
    "column 'A' is greater than 5 and the value in column 'B' is less than 10. The function should return a new DataFrame that contains \n",
    "only the selected rows.\n",
    "\n",
    "For example, if df contains the following values:\n",
    "    A B C\n",
    "  0 3 5 1\n",
    "  1 8 2 7\n",
    "  2 6 9 4\n",
    "  3 2 3 5\n",
    "  4 9 1 2\n",
    "\n",
    "Your function should select the following rows: A B C\n",
    "1 8 2 7\n",
    "4 9 1 2\n",
    "The function should return a new DataFrame that contains only the selected rows."
   ]
  },
  {
   "cell_type": "code",
   "execution_count": 23,
   "id": "a116f64e-1ee3-4b8f-8e87-ed846b4c7164",
   "metadata": {},
   "outputs": [],
   "source": [
    "import pandas as pd\n",
    "\n",
    "def select_rows(df):\n",
    "    selected_rows = df[(df['A'] > 5) & (df['B'] < 10)]\n",
    "    return selected_rows\n",
    "\n",
    "\n",
    "This function first creates a boolean mask based on the conditions given, by using the & operator to combine two separate conditions \n",
    "for columns 'A' and 'B'. It then applies this mask to the original DataFrame using the square bracket notation and returns the resulting \n",
    "subset of rows.\n",
    "\n",
    "You can use this function like this:"
   ]
  },
  {
   "cell_type": "code",
   "execution_count": 24,
   "id": "80da6c4c-7990-4831-ba91-9f13255cc912",
   "metadata": {},
   "outputs": [
    {
     "name": "stdout",
     "output_type": "stream",
     "text": [
      "   A  B  C\n",
      "1  8  2  7\n",
      "2  6  9  4\n",
      "4  9  1  2\n"
     ]
    }
   ],
   "source": [
    "df = pd.DataFrame({'A': [3, 8, 6, 2, 9], 'B': [5, 2, 9, 3, 1], 'C': [1, 7, 4, 5, 2]})\n",
    "selected_rows = select_rows(df)\n",
    "print(selected_rows)"
   ]
  },
  {
   "cell_type": "code",
   "execution_count": null,
   "id": "653a90e6-4f87-468e-95bf-884361ccc918",
   "metadata": {},
   "outputs": [],
   "source": [
    "9. Given a Pandas DataFrame df with a column 'Values', write a Python function to calculate the mean, median, and \n",
    "   standard deviation of the values in the 'Values' column."
   ]
  },
  {
   "cell_type": "code",
   "execution_count": 25,
   "id": "043c8aed-50b9-47f8-925c-65b03d7d835e",
   "metadata": {},
   "outputs": [],
   "source": [
    "import pandas as pd\n",
    "\n",
    "def calculate_stats(df, col_name):\n",
    "    # Calculate mean, median, and standard deviation\n",
    "    mean = df[col_name].mean()\n",
    "    median = df[col_name].median()\n",
    "    std = df[col_name].std()\n",
    "\n",
    "    # Print results\n",
    "    print(\"Mean:\", mean)\n",
    "    print(\"Median:\", median)\n",
    "    print(\"Standard Deviation:\", std)\n",
    "    \n",
    "To use this function, you would pass in your DataFrame df and the name of the column you want to calculate statistics for, like this:    \n",
    "\n",
    "calculate_stats(df, 'Values')\n",
    "\n",
    "This will calculate the mean, median, and standard deviation of the values in the 'Values' column of df and print the results to the console.\n",
    "\n",
    "Example for above code is given below:"
   ]
  },
  {
   "cell_type": "code",
   "execution_count": 27,
   "id": "a7d9c90c-14b7-4a12-9d70-171305b28115",
   "metadata": {},
   "outputs": [
    {
     "name": "stdout",
     "output_type": "stream",
     "text": [
      "Mean: 30.0\n",
      "Median: 30.0\n",
      "Standard Deviation: 15.811388300841896\n"
     ]
    }
   ],
   "source": [
    "import pandas as pd\n",
    "\n",
    "# Create a DataFrame\n",
    "data = {'Values': [10, 20, 30, 40, 50]}\n",
    "df = pd.DataFrame(data)\n",
    "\n",
    "# Calculate statistics for the 'Values' column\n",
    "calculate_stats(df, 'Values')\n"
   ]
  },
  {
   "cell_type": "code",
   "execution_count": null,
   "id": "536fb451-c0aa-4718-a3ad-25fbfbc47c7b",
   "metadata": {},
   "outputs": [],
   "source": [
    "10. Given a Pandas DataFrame df with a column 'Sales' and a column 'Date', write a Python function to create a new column 'MovingAverage' \n",
    "that contains the moving average of the sales for the past 7 days for each row in the DataFrame. The moving average should be calculated \n",
    "using a window of size 7 and should include the current day."
   ]
  },
  {
   "cell_type": "code",
   "execution_count": 28,
   "id": "baec6370-1cdd-46e8-8f24-950b774f40b8",
   "metadata": {},
   "outputs": [],
   "source": [
    "To calculate the moving average of the sales for the past 7 days for each row in the DataFrame, we can use the rolling() function \n",
    "in pandas with a window size of 7 and the mean() function to calculate the average. \n",
    "\n",
    "Here is an example Python function:\n",
    "\n",
    "import pandas as pd\n",
    "\n",
    "def moving_average(df):\n",
    "    df['MovingAverage'] = df['Sales'].rolling(window=7, min_periods=1).mean()\n",
    "    return df\n",
    "\n",
    "In this function, we first import pandas and define the function moving_average() that takes a DataFrame df as input.\n",
    "\n",
    "We then use the rolling() function to create a rolling window of size 7 for the 'Sales' column and calculate the mean for each window \n",
    "using the mean() function. We assign the result to a new column 'MovingAverage' in the DataFrame.\n",
    "\n",
    "Finally, we return the updated DataFrame with the new column added."
   ]
  },
  {
   "cell_type": "code",
   "execution_count": null,
   "id": "45710b6e-c156-4748-a927-45cf9227f007",
   "metadata": {},
   "outputs": [],
   "source": [
    "Let say we have a Pandas DataFrame df that looks like this:\n",
    "\n",
    "         Date  Sales\n",
    "0    2022-1-1     10\n",
    "1    2022-1-2     15\n",
    "2    2022-1-3     20\n",
    "3    2022-1-4     25\n",
    "4    2022-1-5     30\n",
    "5    2022-1-6     35\n",
    "6    2022-1-7     40\n",
    "7    2022-1-8     45\n",
    "8    2022-1-9     50\n",
    "9    2022-1-10    55\n",
    "\n",
    "\n",
    "We can create a new column 'MovingAverage' with the moving average of the sales for the past 7 days using the following function:\n",
    "\n",
    "import pandas as pd\n",
    "\n",
    "def moving_average(df):\n",
    "    # Convert the Date column to datetime\n",
    "    df['Date'] = pd.to_datetime(df['Date'])\n",
    "\n",
    "    # Sort the DataFrame by the Date column\n",
    "    df = df.sort_values('Date')\n",
    "\n",
    "    # Create a new column 'MovingAverage' and calculate the moving average\n",
    "    df['MovingAverage'] = df['Sales'].rolling(window=7, min_periods=1).mean()\n",
    "\n",
    "    # Return the updated DataFrame\n",
    "    return df\n",
    "\n",
    "\n",
    "After applying the function on the DataFrame df, the output would be:\n",
    "    \n",
    "    \n",
    "            Date  Sales  MovingAverage\n",
    "0   2022-1-1     10      10.000000\n",
    "1   2022-1-2     15      12.500000\n",
    "2   2022-1-3     20      15.000000\n",
    "3   2022-1-4     25      18.750000\n",
    "4   2022-1-5     30      22.000000\n",
    "5   2022-1-6     35      25.000000\n",
    "6   2022-1-7     40      28.333333\n",
    "7   2022-1-8     45      32.142857\n",
    "8   2022-1-9     50      36.111111\n",
    "9  2022-1-10     55      40.000000\n"
   ]
  },
  {
   "cell_type": "code",
   "execution_count": null,
   "id": "425512b9-47dd-4bc5-ac03-87b7fb2be22d",
   "metadata": {},
   "outputs": [],
   "source": [
    "11. You have a Pandas DataFrame df with a column 'Date'. Write a Python function that creates a new column 'Weekday' in the DataFrame. \n",
    "The 'Weekday' column should contain the weekday name (e.g. Monday, Tuesday) corresponding to each date in the 'Date' column.\n",
    "For example, if df contains the following values:\n",
    "    \n",
    "Date\n",
    "0 2023-01-01\n",
    "1 2023-01-02\n",
    "2 2023-01-03\n",
    "3 2023-01-04\n",
    "4 2023-01-05\n",
    "Your function should create the following DataFrame:\n",
    "\n",
    "Date Weekday\n",
    "0 2023-01-01 Sunday\n",
    "1 2023-01-02 Monday\n",
    "2 2023-01-03 Tuesday\n",
    "3 2023-01-04 Wednesday\n",
    "4 2023-01-05 Thursday\n",
    "The function should return the modified DataFrame."
   ]
  },
  {
   "cell_type": "code",
   "execution_count": null,
   "id": "203835d1-cba4-4a26-a272-42d12460a33a",
   "metadata": {},
   "outputs": [],
   "source": [
    "You can use the Pandas dt accessor to extract the weekday name from the date in the 'Date' column. Here is an example \n",
    "Python function that creates a new column 'Weekday' containing the weekday name for each date in the 'Date' column:\n",
    "    \n",
    "import pandas as pd\n",
    "\n",
    "def add_weekday(df):\n",
    "    df['Weekday'] = df['Date'].dt.day_name()\n",
    "    return df\n",
    "\n",
    "You can apply this function to your DataFrame as follows:\n",
    "    \n",
    "df = pd.DataFrame({\n",
    "    'Date': ['2023-01-01', '2023-01-02', '2023-01-03', '2023-01-04', '2023-01-05']\n",
    "})\n",
    "\n",
    "df = add_weekday(df)\n",
    "print(df)\n",
    "\n",
    "Output:\n",
    "\n",
    "        Date    Weekday\n",
    "0 2023-01-01     Sunday\n",
    "1 2023-01-02     Monday\n",
    "2 2023-01-03    Tuesday\n",
    "3 2023-01-04  Wednesday\n",
    "4 2023-01-05   Thursday"
   ]
  },
  {
   "cell_type": "code",
   "execution_count": null,
   "id": "3ba93b4b-ddb0-41c3-be3e-af41c9f0a767",
   "metadata": {},
   "outputs": [],
   "source": [
    "12. Given a Pandas DataFrame df with a column 'Date' that contains timestamps, write a Python function to select all rows where \n",
    "    the date is between '2023-01-01' and '2023-01-31'."
   ]
  },
  {
   "cell_type": "code",
   "execution_count": 37,
   "id": "8627e7bb-27f7-4877-bcf0-2f4d402102ba",
   "metadata": {},
   "outputs": [
    {
     "name": "stdout",
     "output_type": "stream",
     "text": [
      "        Date  Sales\n",
      "0 2023-01-01    100\n",
      "1 2023-01-15    200\n",
      "2 2023-01-31    300\n"
     ]
    }
   ],
   "source": [
    "import pandas as pd\n",
    "\n",
    "# create sample data\n",
    "data = {'Date': ['2023-01-01', '2023-01-15', '2023-01-31', '2023-02-14', '2023-02-28'],\n",
    "        'Sales': [100, 200, 300, 400, 500]}\n",
    "df = pd.DataFrame(data)\n",
    "\n",
    "# convert Date column to datetime format\n",
    "df['Date'] = pd.to_datetime(df['Date'])\n",
    "\n",
    "# select rows where date is between '2023-01-01' and '2023-01-31'\n",
    "start_date = '2023-01-01'\n",
    "end_date = '2023-01-31'\n",
    "mask = (df['Date'] >= start_date) & (df['Date'] <= end_date)\n",
    "filtered_df = df.loc[mask]\n",
    "\n",
    "# print filtered DataFrame\n",
    "print(filtered_df)\n"
   ]
  },
  {
   "cell_type": "code",
   "execution_count": null,
   "id": "b03d3a8c-b4d8-471f-b988-edae78f587bc",
   "metadata": {},
   "outputs": [],
   "source": [
    "13. To use the basic functions of pandas, what is the first and foremost necessary library that needs to be imported?"
   ]
  },
  {
   "cell_type": "code",
   "execution_count": null,
   "id": "c8365ed1-fe9f-4c06-b1c5-58f3fddf1589",
   "metadata": {},
   "outputs": [],
   "source": [
    "The first and foremost necessary library that needs to be imported to use the basic functions of pandas is \"pandas\" itself. \n",
    "The commonly used convention is to import it with the alias \"pd\".\n",
    "\n",
    "So, the import statement will be:\n",
    "    \n",
    "    import pandas as pd"
   ]
  }
 ],
 "metadata": {
  "kernelspec": {
   "display_name": "Python 3 (ipykernel)",
   "language": "python",
   "name": "python3"
  },
  "language_info": {
   "codemirror_mode": {
    "name": "ipython",
    "version": 3
   },
   "file_extension": ".py",
   "mimetype": "text/x-python",
   "name": "python",
   "nbconvert_exporter": "python",
   "pygments_lexer": "ipython3",
   "version": "3.10.8"
  }
 },
 "nbformat": 4,
 "nbformat_minor": 5
}
